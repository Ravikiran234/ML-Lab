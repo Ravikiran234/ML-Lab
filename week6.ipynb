{
 "cells": [
  {
   "cell_type": "code",
   "execution_count": 1,
   "id": "ff3651f9-4883-4d27-a164-9ee1f37c4b98",
   "metadata": {},
   "outputs": [],
   "source": [
    "# 1–2: Import libraries and dataset\n",
    "import pandas as pd\n",
    "import numpy as np\n",
    "import matplotlib.pyplot as plt\n",
    "from sklearn.feature_extraction.text import CountVectorizer, TfidfVectorizer\n",
    "from sklearn.naive_bayes import BernoulliNB, MultinomialNB\n",
    "from sklearn.metrics import accuracy_score\n"
   ]
  },
  {
   "cell_type": "code",
   "execution_count": 2,
   "id": "40acb7cd-78a2-4246-abcd-99bb637f2195",
   "metadata": {},
   "outputs": [
    {
     "name": "stdout",
     "output_type": "stream",
     "text": [
      "                                                    text  target  \\\n",
      "0      I was wondering if anyone out there could enli...       7   \n",
      "1      A fair number of brave souls who upgraded thei...       4   \n",
      "2      well folks, my mac plus finally gave up the gh...       4   \n",
      "3      \\nDo you have Weitek's address/phone number?  ...       1   \n",
      "4      From article <C5owCB.n3p@world.std.com>, by to...      14   \n",
      "...                                                  ...     ...   \n",
      "11309  DN> From: nyeda@cnsvax.uwec.edu (David Nye)\\nD...      13   \n",
      "11310  I have a (very old) Mac 512k and a Mac Plus, b...       4   \n",
      "11311  I just installed a DX2-66 CPU in a clone mothe...       3   \n",
      "11312  \\nWouldn't this require a hyper-sphere.  In 3-...       1   \n",
      "11313  Stolen from Pasadena between 4:30 and 6:30 pm ...       8   \n",
      "\n",
      "                       category  \n",
      "0                     rec.autos  \n",
      "1         comp.sys.mac.hardware  \n",
      "2         comp.sys.mac.hardware  \n",
      "3                 comp.graphics  \n",
      "4                     sci.space  \n",
      "...                         ...  \n",
      "11309                   sci.med  \n",
      "11310     comp.sys.mac.hardware  \n",
      "11311  comp.sys.ibm.pc.hardware  \n",
      "11312             comp.graphics  \n",
      "11313           rec.motorcycles  \n",
      "\n",
      "[11314 rows x 3 columns]\n",
      "                                                   text  target  \\\n",
      "0     I am a little confused on all of the models of...       7   \n",
      "1     I'm not familiar at all with the format of the...       5   \n",
      "2                                   \\nIn a word, yes.\\n       0   \n",
      "3     \\nThey were attacking the Iraqis to drive them...      17   \n",
      "4     \\nI've just spent two solid months arguing tha...      19   \n",
      "...                                                 ...     ...   \n",
      "7527  \\n   Henry, if I read you correctly, you may b...      14   \n",
      "7528  about\\nthem on\\n\\nActually, I thought Macs wer...       4   \n",
      "7529  I sent a version of this post out a while ago,...       9   \n",
      "7530  I have this kit which includes the following :...       6   \n",
      "7531  \\nFine, but one of the points of this entire d...      15   \n",
      "\n",
      "                    category  \n",
      "0                  rec.autos  \n",
      "1             comp.windows.x  \n",
      "2                alt.atheism  \n",
      "3      talk.politics.mideast  \n",
      "4         talk.religion.misc  \n",
      "...                      ...  \n",
      "7527               sci.space  \n",
      "7528   comp.sys.mac.hardware  \n",
      "7529      rec.sport.baseball  \n",
      "7530            misc.forsale  \n",
      "7531  soc.religion.christian  \n",
      "\n",
      "[7532 rows x 3 columns]\n"
     ]
    }
   ],
   "source": [
    "train_df = pd.read_csv(\"/home/user/Downloads/Ml_Lab/nlp_train.csv\")\n",
    "test_df = pd.read_csv(\"/home/user/Downloads/Ml_Lab/nlp_test.csv\")\n",
    "print(train_df)\n",
    "print(test_df)"
   ]
  },
  {
   "cell_type": "code",
   "execution_count": 3,
   "id": "377d5dd4-7565-4ae1-b506-17730a2046da",
   "metadata": {},
   "outputs": [
    {
     "name": "stdout",
     "output_type": "stream",
     "text": [
      "All target labels: ['rec.autos' 'comp.sys.mac.hardware' 'comp.graphics' 'sci.space'\n",
      " 'talk.politics.guns' 'sci.med' 'comp.sys.ibm.pc.hardware'\n",
      " 'comp.os.ms-windows.misc' 'rec.motorcycles' 'talk.religion.misc'\n",
      " 'misc.forsale' 'alt.atheism' 'sci.electronics' 'comp.windows.x'\n",
      " 'rec.sport.hockey' 'rec.sport.baseball' 'soc.religion.christian'\n",
      " 'talk.politics.mideast' 'talk.politics.misc' 'sci.crypt']\n"
     ]
    }
   ],
   "source": [
    "# 3–5: Print all target labels\n",
    "target_labels = train_df['category'].unique()\n",
    "print(\"All target labels:\", target_labels)\n"
   ]
  },
  {
   "cell_type": "code",
   "execution_count": 4,
   "id": "5ef6fbf7-9484-49fb-bb3d-f735a27c3640",
   "metadata": {},
   "outputs": [],
   "source": [
    "# 6–8: Prepare subsets (alt.atheism, comp.graphics, sci.space)\n",
    "categories = ['alt.atheism', 'comp.graphics', 'sci.space']\n",
    "train_subset = train_df[train_df['category'].isin(categories)]\n",
    "test_subset = test_df[test_df['category'].isin(categories)]\n"
   ]
  },
  {
   "cell_type": "code",
   "execution_count": 5,
   "id": "237effaa-748d-4d5f-b416-0558f5582cc2",
   "metadata": {},
   "outputs": [
    {
     "name": "stdout",
     "output_type": "stream",
     "text": [
      "Training set labels: ['comp.graphics' 'sci.space' 'alt.atheism']\n"
     ]
    }
   ],
   "source": [
    "# 9: Print new training set target names (labels)\n",
    "print(\"Training set labels:\", train_subset['category'].unique())\n"
   ]
  },
  {
   "cell_type": "code",
   "execution_count": 10,
   "id": "6262900f-5036-434d-bf34-12adc4d1d657",
   "metadata": {},
   "outputs": [
    {
     "name": "stdout",
     "output_type": "stream",
     "text": [
      "5th article in training data:\n",
      " \n",
      "I certainly do use it whenever I have to do TIFF, and it usually works\n",
      "very well.  That's not my point.  I'm >philosophically< opposed to it\n",
      "because of its complexity.\n",
      "\n",
      "This complexity has led to some programs' poor TIFF writers making\n",
      "some very bizarre files, other programs' inability to load TIFF\n",
      "images (though they'll save them, of course), and a general\n",
      "inability to interchange images between different environments\n",
      "despite the fact they all think they understand TIFF.\n",
      "\n",
      "As the saying goes, \"It's not me I'm worried about- it's all the\n",
      "abuse of TIFF over the years, and I chalk it all up to the immense (and\n",
      "unnecessary) complexity of the format.\n",
      "\n",
      "In the words of the TIFF 5.0 spec, Appendix G, page G-1 (capitalized\n",
      "emphasis mine):\n",
      "\n",
      "\"The only problem with this sort of success is that TIFF was designed\n",
      "to be powerful and flexible, at the expense of simplicity.  It takes a\n",
      "fair amount of effort to handle all the options currently defined in\n",
      "this specification (PROBABLY NO APPLICATION DOES A COMPLETE JOB),\n",
      "and that is currently the only way you can be >sure< that you will be\n",
      "able to import any TIFF image, since there are so many\n",
      "image-generating applications out there now.\"\n",
      "\n",
      "\n",
      "If a program (or worse all applications) can't read >every< TIFF\n",
      "image, that means there are some it won't- some that I might have to\n",
      "deal with.  Why would I want my images to be trapped in that format?  I\n",
      "don't and neither should anyone who agrees with my reasoning- not\n",
      "that anyone does, of course! :-)\n"
     ]
    }
   ],
   "source": [
    "#  10: Print training data of the 5th article\n",
    "print(\"5th article in training data:\\n\", train_subset.iloc[4,0])\n"
   ]
  },
  {
   "cell_type": "code",
   "execution_count": 35,
   "id": "f9fc12c7-b769-4e62-8241-0b9588ff5e65",
   "metadata": {},
   "outputs": [
    {
     "name": "stdout",
     "output_type": "stream",
     "text": [
      "Training data shape: (1657, 3)\n",
      "Target data shape: (1102, 3)\n",
      "Training set preview:\n",
      "                                                  text  target       category\n",
      "3   \\nDo you have Weitek's address/phone number?  ...       1  comp.graphics\n",
      "4   From article <C5owCB.n3p@world.std.com>, by to...      14      sci.space\n",
      "13  \\n   {Description of \"External Tank\" option fo...      14      sci.space\n",
      "15  \\nDon't be so sure.  Look what happened to Jap...       0    alt.atheism\n",
      "16  \\nI certainly do use it whenever I have to do ...       1  comp.graphics\n"
     ]
    },
    {
     "data": {
      "text/plain": [
       "array([    3,     4,    13, ..., 11286, 11289, 11312])"
      ]
     },
     "execution_count": 35,
     "metadata": {},
     "output_type": "execute_result"
    }
   ],
   "source": [
    "# 11–12: Print shape and filenames (assuming filenames = index or preview)\n",
    "print(\"Training data shape:\", train_subset.shape)\n",
    "print(\"Target data shape:\", test_subset.shape)\n",
    "print(\"Training set preview:\\n\", train_subset.head())\n",
    "train_subset.index.values\n"
   ]
  },
  {
   "cell_type": "code",
   "execution_count": 37,
   "id": "60532fff-227f-496a-8f3c-679851289a80",
   "metadata": {},
   "outputs": [
    {
     "name": "stderr",
     "output_type": "stream",
     "text": [
      "/tmp/ipykernel_3142/676687599.py:2: SettingWithCopyWarning: \n",
      "A value is trying to be set on a copy of a slice from a DataFrame.\n",
      "Try using .loc[row_indexer,col_indexer] = value instead\n",
      "\n",
      "See the caveats in the documentation: https://pandas.pydata.org/pandas-docs/stable/user_guide/indexing.html#returning-a-view-versus-a-copy\n",
      "  train_subset['text'] = train_subset['text'].fillna(\"\")\n",
      "/tmp/ipykernel_3142/676687599.py:3: SettingWithCopyWarning: \n",
      "A value is trying to be set on a copy of a slice from a DataFrame.\n",
      "Try using .loc[row_indexer,col_indexer] = value instead\n",
      "\n",
      "See the caveats in the documentation: https://pandas.pydata.org/pandas-docs/stable/user_guide/indexing.html#returning-a-view-versus-a-copy\n",
      "  test_subset['text'] = test_subset['text'].fillna(\"\")\n"
     ]
    },
    {
     "data": {
      "text/plain": [
       "<1657x23598 sparse matrix of type '<class 'numpy.int64'>'\n",
       "\twith 155497 stored elements in Compressed Sparse Row format>"
      ]
     },
     "execution_count": 37,
     "metadata": {},
     "output_type": "execute_result"
    }
   ],
   "source": [
    "# 13: Use CountVectorizer to convert text to numeric\n",
    "train_subset['text'] = train_subset['text'].fillna(\"\")\n",
    "test_subset['text'] = test_subset['text'].fillna(\"\")\n",
    "vectorizer = CountVectorizer()\n",
    "X_train_counts = vectorizer.fit_transform(train_subset['text'])\n",
    "y_train = train_subset['category']\n",
    "X_train_counts"
   ]
  },
  {
   "cell_type": "code",
   "execution_count": 9,
   "id": "6c3e4a8f-eb8f-41f0-b245-c0e8505f1f5c",
   "metadata": {},
   "outputs": [
    {
     "data": {
      "text/html": [
       "<style>#sk-container-id-1 {color: black;background-color: white;}#sk-container-id-1 pre{padding: 0;}#sk-container-id-1 div.sk-toggleable {background-color: white;}#sk-container-id-1 label.sk-toggleable__label {cursor: pointer;display: block;width: 100%;margin-bottom: 0;padding: 0.3em;box-sizing: border-box;text-align: center;}#sk-container-id-1 label.sk-toggleable__label-arrow:before {content: \"▸\";float: left;margin-right: 0.25em;color: #696969;}#sk-container-id-1 label.sk-toggleable__label-arrow:hover:before {color: black;}#sk-container-id-1 div.sk-estimator:hover label.sk-toggleable__label-arrow:before {color: black;}#sk-container-id-1 div.sk-toggleable__content {max-height: 0;max-width: 0;overflow: hidden;text-align: left;background-color: #f0f8ff;}#sk-container-id-1 div.sk-toggleable__content pre {margin: 0.2em;color: black;border-radius: 0.25em;background-color: #f0f8ff;}#sk-container-id-1 input.sk-toggleable__control:checked~div.sk-toggleable__content {max-height: 200px;max-width: 100%;overflow: auto;}#sk-container-id-1 input.sk-toggleable__control:checked~label.sk-toggleable__label-arrow:before {content: \"▾\";}#sk-container-id-1 div.sk-estimator input.sk-toggleable__control:checked~label.sk-toggleable__label {background-color: #d4ebff;}#sk-container-id-1 div.sk-label input.sk-toggleable__control:checked~label.sk-toggleable__label {background-color: #d4ebff;}#sk-container-id-1 input.sk-hidden--visually {border: 0;clip: rect(1px 1px 1px 1px);clip: rect(1px, 1px, 1px, 1px);height: 1px;margin: -1px;overflow: hidden;padding: 0;position: absolute;width: 1px;}#sk-container-id-1 div.sk-estimator {font-family: monospace;background-color: #f0f8ff;border: 1px dotted black;border-radius: 0.25em;box-sizing: border-box;margin-bottom: 0.5em;}#sk-container-id-1 div.sk-estimator:hover {background-color: #d4ebff;}#sk-container-id-1 div.sk-parallel-item::after {content: \"\";width: 100%;border-bottom: 1px solid gray;flex-grow: 1;}#sk-container-id-1 div.sk-label:hover label.sk-toggleable__label {background-color: #d4ebff;}#sk-container-id-1 div.sk-serial::before {content: \"\";position: absolute;border-left: 1px solid gray;box-sizing: border-box;top: 0;bottom: 0;left: 50%;z-index: 0;}#sk-container-id-1 div.sk-serial {display: flex;flex-direction: column;align-items: center;background-color: white;padding-right: 0.2em;padding-left: 0.2em;position: relative;}#sk-container-id-1 div.sk-item {position: relative;z-index: 1;}#sk-container-id-1 div.sk-parallel {display: flex;align-items: stretch;justify-content: center;background-color: white;position: relative;}#sk-container-id-1 div.sk-item::before, #sk-container-id-1 div.sk-parallel-item::before {content: \"\";position: absolute;border-left: 1px solid gray;box-sizing: border-box;top: 0;bottom: 0;left: 50%;z-index: -1;}#sk-container-id-1 div.sk-parallel-item {display: flex;flex-direction: column;z-index: 1;position: relative;background-color: white;}#sk-container-id-1 div.sk-parallel-item:first-child::after {align-self: flex-end;width: 50%;}#sk-container-id-1 div.sk-parallel-item:last-child::after {align-self: flex-start;width: 50%;}#sk-container-id-1 div.sk-parallel-item:only-child::after {width: 0;}#sk-container-id-1 div.sk-dashed-wrapped {border: 1px dashed gray;margin: 0 0.4em 0.5em 0.4em;box-sizing: border-box;padding-bottom: 0.4em;background-color: white;}#sk-container-id-1 div.sk-label label {font-family: monospace;font-weight: bold;display: inline-block;line-height: 1.2em;}#sk-container-id-1 div.sk-label-container {text-align: center;}#sk-container-id-1 div.sk-container {/* jupyter's `normalize.less` sets `[hidden] { display: none; }` but bootstrap.min.css set `[hidden] { display: none !important; }` so we also need the `!important` here to be able to override the default hidden behavior on the sphinx rendered scikit-learn.org. See: https://github.com/scikit-learn/scikit-learn/issues/21755 */display: inline-block !important;position: relative;}#sk-container-id-1 div.sk-text-repr-fallback {display: none;}</style><div id=\"sk-container-id-1\" class=\"sk-top-container\"><div class=\"sk-text-repr-fallback\"><pre>BernoulliNB()</pre><b>In a Jupyter environment, please rerun this cell to show the HTML representation or trust the notebook. <br />On GitHub, the HTML representation is unable to render, please try loading this page with nbviewer.org.</b></div><div class=\"sk-container\" hidden><div class=\"sk-item\"><div class=\"sk-estimator sk-toggleable\"><input class=\"sk-toggleable__control sk-hidden--visually\" id=\"sk-estimator-id-1\" type=\"checkbox\" checked><label for=\"sk-estimator-id-1\" class=\"sk-toggleable__label sk-toggleable__label-arrow\">BernoulliNB</label><div class=\"sk-toggleable__content\"><pre>BernoulliNB()</pre></div></div></div></div></div>"
      ],
      "text/plain": [
       "BernoulliNB()"
      ]
     },
     "execution_count": 9,
     "metadata": {},
     "output_type": "execute_result"
    }
   ],
   "source": [
    "# 14: Use BernoulliNB for training\n",
    "bnb = BernoulliNB()\n",
    "bnb.fit(X_train_counts, y_train)\n"
   ]
  },
  {
   "cell_type": "code",
   "execution_count": 19,
   "id": "f7322124-4838-46ad-9255-1334bfd29728",
   "metadata": {},
   "outputs": [
    {
     "data": {
      "text/plain": [
       "<1657x23598 sparse matrix of type '<class 'numpy.int64'>'\n",
       "\twith 155497 stored elements in Compressed Sparse Row format>"
      ]
     },
     "execution_count": 19,
     "metadata": {},
     "output_type": "execute_result"
    }
   ],
   "source": [
    "X_train_counts"
   ]
  },
  {
   "cell_type": "code",
   "execution_count": 20,
   "id": "c2524bb9-6fb0-4544-a8c8-8029e80a37a7",
   "metadata": {},
   "outputs": [
    {
     "data": {
      "text/plain": [
       "<1102x23598 sparse matrix of type '<class 'numpy.int64'>'\n",
       "\twith 105036 stored elements in Compressed Sparse Row format>"
      ]
     },
     "execution_count": 20,
     "metadata": {},
     "output_type": "execute_result"
    }
   ],
   "source": [
    "# 15: Convert test set with CountVectorizer\n",
    "X_test_counts = vectorizer.transform(test_subset['text'])\n",
    "y_test = test_subset['category']\n",
    "X_test_counts"
   ]
  },
  {
   "cell_type": "code",
   "execution_count": 11,
   "id": "3d0fb944-1ff2-4598-988e-854e62c6f2d8",
   "metadata": {},
   "outputs": [
    {
     "name": "stdout",
     "output_type": "stream",
     "text": [
      "Accuracy using BernoulliNB: 0.6987295825771325\n"
     ]
    }
   ],
   "source": [
    "# 16–17: Predict and evaluate using BernoulliNB\n",
    "y_pred_bnb = bnb.predict(X_test_counts)\n",
    "bnb_accuracy = accuracy_score(y_test, y_pred_bnb)\n",
    "print(\"Accuracy using BernoulliNB:\", bnb_accuracy)\n"
   ]
  },
  {
   "cell_type": "code",
   "execution_count": 12,
   "id": "a232af43-dbbd-43de-9b34-43d2abbec758",
   "metadata": {},
   "outputs": [],
   "source": [
    "# 18: Use TfidfVectorizer + MultinomialNB\n",
    "tfidf_vectorizer = TfidfVectorizer()\n",
    "X_train_tfidf = tfidf_vectorizer.fit_transform(train_subset['text'])\n",
    "X_test_tfidf = tfidf_vectorizer.transform(test_subset['text'])\n",
    "\n",
    "mnb = MultinomialNB()\n",
    "mnb.fit(X_train_tfidf, y_train)\n",
    "y_pred_mnb = mnb.predict(X_test_tfidf)\n"
   ]
  },
  {
   "cell_type": "code",
   "execution_count": 13,
   "id": "d8aea28e-09c5-4dd8-af76-98c14d3fdb33",
   "metadata": {},
   "outputs": [
    {
     "name": "stdout",
     "output_type": "stream",
     "text": [
      "Accuracy using Tfidf + MultinomialNB: 0.8620689655172413\n"
     ]
    }
   ],
   "source": [
    "# 19: Evaluate accuracy for MultinomialNB\n",
    "mnb_accuracy = accuracy_score(y_test, y_pred_mnb)\n",
    "print(\"Accuracy using Tfidf + MultinomialNB:\", mnb_accuracy)\n"
   ]
  },
  {
   "cell_type": "code",
   "execution_count": 14,
   "id": "23bb55b5-dd3c-4e9e-ba1b-7c58d7b91fb3",
   "metadata": {},
   "outputs": [
    {
     "name": "stdout",
     "output_type": "stream",
     "text": [
      "Accuracy using Tfidf + stopwords removed: 0.8729582577132486\n"
     ]
    }
   ],
   "source": [
    "# 20: Try avoiding stopwords and repeat\n",
    "tfidf_vectorizer_sw = TfidfVectorizer(stop_words='english')\n",
    "X_train_sw = tfidf_vectorizer_sw.fit_transform(train_subset['text'])\n",
    "X_test_sw = tfidf_vectorizer_sw.transform(test_subset['text'])\n",
    "\n",
    "mnb_sw = MultinomialNB()\n",
    "mnb_sw.fit(X_train_sw, y_train)\n",
    "y_pred_sw = mnb_sw.predict(X_test_sw)\n",
    "\n",
    "accuracy_sw = accuracy_score(y_test, y_pred_sw)\n",
    "print(\"Accuracy using Tfidf + stopwords removed:\", accuracy_sw)\n"
   ]
  },
  {
   "cell_type": "code",
   "execution_count": null,
   "id": "2b3161e4-c02b-40d0-8b19-684a29920b4a",
   "metadata": {},
   "outputs": [],
   "source": []
  }
 ],
 "metadata": {
  "kernelspec": {
   "display_name": "Python 3 (ipykernel)",
   "language": "python",
   "name": "python3"
  },
  "language_info": {
   "codemirror_mode": {
    "name": "ipython",
    "version": 3
   },
   "file_extension": ".py",
   "mimetype": "text/x-python",
   "name": "python",
   "nbconvert_exporter": "python",
   "pygments_lexer": "ipython3",
   "version": "3.11.7"
  }
 },
 "nbformat": 4,
 "nbformat_minor": 5
}
